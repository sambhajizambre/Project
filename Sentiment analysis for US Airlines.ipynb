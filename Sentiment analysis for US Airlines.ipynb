{
  "nbformat": 4,
  "nbformat_minor": 0,
  "metadata": {
    "colab": {
      "name": "Untitled34.ipynb",
      "provenance": [],
      "authorship_tag": "ABX9TyPNXKT06Fc7iYjCmFZ3g/Wo",
      "include_colab_link": true
    },
    "kernelspec": {
      "name": "python3",
      "display_name": "Python 3"
    },
    "language_info": {
      "name": "python"
    }
  },
  "cells": [
    {
      "cell_type": "markdown",
      "metadata": {
        "id": "view-in-github",
        "colab_type": "text"
      },
      "source": [
        "<a href=\"https://colab.research.google.com/github/sambhajizambre/Project/blob/main/Sentiment%20analysis%20for%20US%20Airlines.ipynb\" target=\"_parent\"><img src=\"https://colab.research.google.com/assets/colab-badge.svg\" alt=\"Open In Colab\"/></a>"
      ]
    },
    {
      "cell_type": "markdown",
      "source": [
        "# **Sentiment analysis of US airline **** **"
      ],
      "metadata": {
        "id": "16Z8S3Ur9i0K"
      }
    },
    {
      "cell_type": "markdown",
      "source": [
        "# *Problem Statement\n",
        "Objective\n",
        "\n",
        "You are given a data of US Airline tweets and their sentiment. The task is to do sentiment analysis about the problems of each major U.S. airline. Twitter data was scraped from February of 2015 and contributors were asked to first classify positive, negative, and neutral tweets, followed by categorizing negative reasons (such as \"late flight\" or \"rude service\").\n",
        "*"
      ],
      "metadata": {
        "id": "Xj_0DXMU9cdn"
      }
    },
    {
      "cell_type": "code",
      "execution_count": 10,
      "metadata": {
        "id": "9NaSSYIC9Yod"
      },
      "outputs": [],
      "source": [
        "#importing req. Lib.\n",
        "import pandas as pd\n",
        "import numpy as np\n",
        "import seaborn as sns\n",
        "import matplotlib.pyplot as plt\n",
        "import re\n",
        "import nltk\n",
        "from nltk.corpus import stopwords\n",
        "from sklearn.model_selection import train_test_split\n",
        "from mlxtend.plotting import plot_confusion_matrix\n",
        "from sklearn.tree import DecisionTreeClassifier\n",
        "from sklearn.ensemble import RandomForestClassifier\n",
        "from sklearn.metrics import accuracy_score,confusion_matrix,classification_report"
      ]
    },
    {
      "cell_type": "code",
      "source": [
        "#load our data set\n",
        "data = pd.read_csv('/content/drive/MyDrive/python/Tweets.csv')\n",
        "data"
      ],
      "metadata": {
        "colab": {
          "base_uri": "https://localhost:8080/",
          "height": 956
        },
        "id": "AqTgKcyM-Gmj",
        "outputId": "3c1b921b-b922-40d0-bcea-f568bb551b67"
      },
      "execution_count": 11,
      "outputs": [
        {
          "output_type": "execute_result",
          "data": {
            "text/plain": [
              "          tweet_id airline_sentiment  airline_sentiment_confidence  \\\n",
              "0     5.703061e+17           neutral                        1.0000   \n",
              "1     5.703011e+17          positive                        0.3486   \n",
              "2     5.703011e+17           neutral                        0.6837   \n",
              "3     5.703010e+17          negative                        1.0000   \n",
              "4     5.703008e+17          negative                        1.0000   \n",
              "...            ...               ...                           ...   \n",
              "9200  5.700714e+17          negative                        1.0000   \n",
              "9201  5.700711e+17          negative                        0.6669   \n",
              "9202  5.700709e+17           neutral                        0.6353   \n",
              "9203  5.700704e+17          negative                        1.0000   \n",
              "9204  5.700694e+17          negative                        0.6774   \n",
              "\n",
              "               negativereason  negativereason_confidence         airline  \\\n",
              "0                         NaN                        NaN  Virgin America   \n",
              "1                         NaN                     0.0000  Virgin America   \n",
              "2                         NaN                        NaN  Virgin America   \n",
              "3                  Bad Flight                     0.7033  Virgin America   \n",
              "4                  Can't Tell                     1.0000  Virgin America   \n",
              "...                       ...                        ...             ...   \n",
              "9200               Can't Tell                     0.6780      US Airways   \n",
              "9201  Flight Booking Problems                     0.6669      US Airways   \n",
              "9202                      NaN                     0.0000      US Airways   \n",
              "9203  Flight Booking Problems                     0.6703      US Airways   \n",
              "9204               Bad Flight                     0.3490      US Airways   \n",
              "\n",
              "     airline_sentiment_gold          name negativereason_gold  retweet_count  \\\n",
              "0                       NaN       cairdin                 NaN              0   \n",
              "1                       NaN      jnardino                 NaN              0   \n",
              "2                       NaN    yvonnalynn                 NaN              0   \n",
              "3                       NaN      jnardino                 NaN              0   \n",
              "4                       NaN      jnardino                 NaN              0   \n",
              "...                     ...           ...                 ...            ...   \n",
              "9200                    NaN     elysebeme                 NaN              0   \n",
              "9201                    NaN  marisa_negri                 NaN              0   \n",
              "9202                    NaN    caneryilmz                 NaN              0   \n",
              "9203                    NaN    caneryilmz                 NaN              0   \n",
              "9204                    NaN       bstrock                 NaN              1   \n",
              "\n",
              "                                                   text tweet_coord  \\\n",
              "0                   @VirginAmerica What @dhepburn said.         NaN   \n",
              "1     @VirginAmerica plus you've added commercials t...         NaN   \n",
              "2     @VirginAmerica I didn't today... Must mean I n...         NaN   \n",
              "3     @VirginAmerica it's really aggressive to blast...         NaN   \n",
              "4     @VirginAmerica and it's a really big bad thing...         NaN   \n",
              "...                                                 ...         ...   \n",
              "9200  @USAirways yes, but I had to pay more for anot...         NaN   \n",
              "9201  @USAirways Well, that's a problem considering ...         NaN   \n",
              "9202  @USAirways but i bougth mc caren to jfk with s...         NaN   \n",
              "9203  @USAirways it is my fault but i bought online ...         NaN   \n",
              "9204  @usairways  US1799 CLT-&gt;SFO in first no des...         NaN   \n",
              "\n",
              "                  tweet_created            tweet_location  \\\n",
              "0     2015-02-24 11:35:52 -0800                       NaN   \n",
              "1     2015-02-24 11:15:59 -0800                       NaN   \n",
              "2     2015-02-24 11:15:48 -0800                 Lets Play   \n",
              "3     2015-02-24 11:15:36 -0800                       NaN   \n",
              "4     2015-02-24 11:14:45 -0800                       NaN   \n",
              "...                         ...                       ...   \n",
              "9200  2015-02-23 20:02:55 -0800                       NaN   \n",
              "9201  2015-02-23 20:01:49 -0800  Austin, TX | Atlanta, GA   \n",
              "9202  2015-02-23 20:01:15 -0800                       NaN   \n",
              "9203  2015-02-23 19:59:21 -0800                       NaN   \n",
              "9204       2015-02-23 19:55:02                        NaN   \n",
              "\n",
              "                   user_timezone  \n",
              "0     Eastern Time (US & Canada)  \n",
              "1     Pacific Time (US & Canada)  \n",
              "2     Central Time (US & Canada)  \n",
              "3     Pacific Time (US & Canada)  \n",
              "4     Pacific Time (US & Canada)  \n",
              "...                          ...  \n",
              "9200                         NaN  \n",
              "9201  Eastern Time (US & Canada)  \n",
              "9202                         NaN  \n",
              "9203                         NaN  \n",
              "9204                         NaN  \n",
              "\n",
              "[9205 rows x 15 columns]"
            ],
            "text/html": [
              "\n",
              "  <div id=\"df-629a4a9b-c528-4bac-8d21-2b5635ef22be\">\n",
              "    <div class=\"colab-df-container\">\n",
              "      <div>\n",
              "<style scoped>\n",
              "    .dataframe tbody tr th:only-of-type {\n",
              "        vertical-align: middle;\n",
              "    }\n",
              "\n",
              "    .dataframe tbody tr th {\n",
              "        vertical-align: top;\n",
              "    }\n",
              "\n",
              "    .dataframe thead th {\n",
              "        text-align: right;\n",
              "    }\n",
              "</style>\n",
              "<table border=\"1\" class=\"dataframe\">\n",
              "  <thead>\n",
              "    <tr style=\"text-align: right;\">\n",
              "      <th></th>\n",
              "      <th>tweet_id</th>\n",
              "      <th>airline_sentiment</th>\n",
              "      <th>airline_sentiment_confidence</th>\n",
              "      <th>negativereason</th>\n",
              "      <th>negativereason_confidence</th>\n",
              "      <th>airline</th>\n",
              "      <th>airline_sentiment_gold</th>\n",
              "      <th>name</th>\n",
              "      <th>negativereason_gold</th>\n",
              "      <th>retweet_count</th>\n",
              "      <th>text</th>\n",
              "      <th>tweet_coord</th>\n",
              "      <th>tweet_created</th>\n",
              "      <th>tweet_location</th>\n",
              "      <th>user_timezone</th>\n",
              "    </tr>\n",
              "  </thead>\n",
              "  <tbody>\n",
              "    <tr>\n",
              "      <th>0</th>\n",
              "      <td>5.703061e+17</td>\n",
              "      <td>neutral</td>\n",
              "      <td>1.0000</td>\n",
              "      <td>NaN</td>\n",
              "      <td>NaN</td>\n",
              "      <td>Virgin America</td>\n",
              "      <td>NaN</td>\n",
              "      <td>cairdin</td>\n",
              "      <td>NaN</td>\n",
              "      <td>0</td>\n",
              "      <td>@VirginAmerica What @dhepburn said.</td>\n",
              "      <td>NaN</td>\n",
              "      <td>2015-02-24 11:35:52 -0800</td>\n",
              "      <td>NaN</td>\n",
              "      <td>Eastern Time (US &amp; Canada)</td>\n",
              "    </tr>\n",
              "    <tr>\n",
              "      <th>1</th>\n",
              "      <td>5.703011e+17</td>\n",
              "      <td>positive</td>\n",
              "      <td>0.3486</td>\n",
              "      <td>NaN</td>\n",
              "      <td>0.0000</td>\n",
              "      <td>Virgin America</td>\n",
              "      <td>NaN</td>\n",
              "      <td>jnardino</td>\n",
              "      <td>NaN</td>\n",
              "      <td>0</td>\n",
              "      <td>@VirginAmerica plus you've added commercials t...</td>\n",
              "      <td>NaN</td>\n",
              "      <td>2015-02-24 11:15:59 -0800</td>\n",
              "      <td>NaN</td>\n",
              "      <td>Pacific Time (US &amp; Canada)</td>\n",
              "    </tr>\n",
              "    <tr>\n",
              "      <th>2</th>\n",
              "      <td>5.703011e+17</td>\n",
              "      <td>neutral</td>\n",
              "      <td>0.6837</td>\n",
              "      <td>NaN</td>\n",
              "      <td>NaN</td>\n",
              "      <td>Virgin America</td>\n",
              "      <td>NaN</td>\n",
              "      <td>yvonnalynn</td>\n",
              "      <td>NaN</td>\n",
              "      <td>0</td>\n",
              "      <td>@VirginAmerica I didn't today... Must mean I n...</td>\n",
              "      <td>NaN</td>\n",
              "      <td>2015-02-24 11:15:48 -0800</td>\n",
              "      <td>Lets Play</td>\n",
              "      <td>Central Time (US &amp; Canada)</td>\n",
              "    </tr>\n",
              "    <tr>\n",
              "      <th>3</th>\n",
              "      <td>5.703010e+17</td>\n",
              "      <td>negative</td>\n",
              "      <td>1.0000</td>\n",
              "      <td>Bad Flight</td>\n",
              "      <td>0.7033</td>\n",
              "      <td>Virgin America</td>\n",
              "      <td>NaN</td>\n",
              "      <td>jnardino</td>\n",
              "      <td>NaN</td>\n",
              "      <td>0</td>\n",
              "      <td>@VirginAmerica it's really aggressive to blast...</td>\n",
              "      <td>NaN</td>\n",
              "      <td>2015-02-24 11:15:36 -0800</td>\n",
              "      <td>NaN</td>\n",
              "      <td>Pacific Time (US &amp; Canada)</td>\n",
              "    </tr>\n",
              "    <tr>\n",
              "      <th>4</th>\n",
              "      <td>5.703008e+17</td>\n",
              "      <td>negative</td>\n",
              "      <td>1.0000</td>\n",
              "      <td>Can't Tell</td>\n",
              "      <td>1.0000</td>\n",
              "      <td>Virgin America</td>\n",
              "      <td>NaN</td>\n",
              "      <td>jnardino</td>\n",
              "      <td>NaN</td>\n",
              "      <td>0</td>\n",
              "      <td>@VirginAmerica and it's a really big bad thing...</td>\n",
              "      <td>NaN</td>\n",
              "      <td>2015-02-24 11:14:45 -0800</td>\n",
              "      <td>NaN</td>\n",
              "      <td>Pacific Time (US &amp; Canada)</td>\n",
              "    </tr>\n",
              "    <tr>\n",
              "      <th>...</th>\n",
              "      <td>...</td>\n",
              "      <td>...</td>\n",
              "      <td>...</td>\n",
              "      <td>...</td>\n",
              "      <td>...</td>\n",
              "      <td>...</td>\n",
              "      <td>...</td>\n",
              "      <td>...</td>\n",
              "      <td>...</td>\n",
              "      <td>...</td>\n",
              "      <td>...</td>\n",
              "      <td>...</td>\n",
              "      <td>...</td>\n",
              "      <td>...</td>\n",
              "      <td>...</td>\n",
              "    </tr>\n",
              "    <tr>\n",
              "      <th>9200</th>\n",
              "      <td>5.700714e+17</td>\n",
              "      <td>negative</td>\n",
              "      <td>1.0000</td>\n",
              "      <td>Can't Tell</td>\n",
              "      <td>0.6780</td>\n",
              "      <td>US Airways</td>\n",
              "      <td>NaN</td>\n",
              "      <td>elysebeme</td>\n",
              "      <td>NaN</td>\n",
              "      <td>0</td>\n",
              "      <td>@USAirways yes, but I had to pay more for anot...</td>\n",
              "      <td>NaN</td>\n",
              "      <td>2015-02-23 20:02:55 -0800</td>\n",
              "      <td>NaN</td>\n",
              "      <td>NaN</td>\n",
              "    </tr>\n",
              "    <tr>\n",
              "      <th>9201</th>\n",
              "      <td>5.700711e+17</td>\n",
              "      <td>negative</td>\n",
              "      <td>0.6669</td>\n",
              "      <td>Flight Booking Problems</td>\n",
              "      <td>0.6669</td>\n",
              "      <td>US Airways</td>\n",
              "      <td>NaN</td>\n",
              "      <td>marisa_negri</td>\n",
              "      <td>NaN</td>\n",
              "      <td>0</td>\n",
              "      <td>@USAirways Well, that's a problem considering ...</td>\n",
              "      <td>NaN</td>\n",
              "      <td>2015-02-23 20:01:49 -0800</td>\n",
              "      <td>Austin, TX | Atlanta, GA</td>\n",
              "      <td>Eastern Time (US &amp; Canada)</td>\n",
              "    </tr>\n",
              "    <tr>\n",
              "      <th>9202</th>\n",
              "      <td>5.700709e+17</td>\n",
              "      <td>neutral</td>\n",
              "      <td>0.6353</td>\n",
              "      <td>NaN</td>\n",
              "      <td>0.0000</td>\n",
              "      <td>US Airways</td>\n",
              "      <td>NaN</td>\n",
              "      <td>caneryilmz</td>\n",
              "      <td>NaN</td>\n",
              "      <td>0</td>\n",
              "      <td>@USAirways but i bougth mc caren to jfk with s...</td>\n",
              "      <td>NaN</td>\n",
              "      <td>2015-02-23 20:01:15 -0800</td>\n",
              "      <td>NaN</td>\n",
              "      <td>NaN</td>\n",
              "    </tr>\n",
              "    <tr>\n",
              "      <th>9203</th>\n",
              "      <td>5.700704e+17</td>\n",
              "      <td>negative</td>\n",
              "      <td>1.0000</td>\n",
              "      <td>Flight Booking Problems</td>\n",
              "      <td>0.6703</td>\n",
              "      <td>US Airways</td>\n",
              "      <td>NaN</td>\n",
              "      <td>caneryilmz</td>\n",
              "      <td>NaN</td>\n",
              "      <td>0</td>\n",
              "      <td>@USAirways it is my fault but i bought online ...</td>\n",
              "      <td>NaN</td>\n",
              "      <td>2015-02-23 19:59:21 -0800</td>\n",
              "      <td>NaN</td>\n",
              "      <td>NaN</td>\n",
              "    </tr>\n",
              "    <tr>\n",
              "      <th>9204</th>\n",
              "      <td>5.700694e+17</td>\n",
              "      <td>negative</td>\n",
              "      <td>0.6774</td>\n",
              "      <td>Bad Flight</td>\n",
              "      <td>0.3490</td>\n",
              "      <td>US Airways</td>\n",
              "      <td>NaN</td>\n",
              "      <td>bstrock</td>\n",
              "      <td>NaN</td>\n",
              "      <td>1</td>\n",
              "      <td>@usairways  US1799 CLT-&amp;gt;SFO in first no des...</td>\n",
              "      <td>NaN</td>\n",
              "      <td>2015-02-23 19:55:02</td>\n",
              "      <td>NaN</td>\n",
              "      <td>NaN</td>\n",
              "    </tr>\n",
              "  </tbody>\n",
              "</table>\n",
              "<p>9205 rows × 15 columns</p>\n",
              "</div>\n",
              "      <button class=\"colab-df-convert\" onclick=\"convertToInteractive('df-629a4a9b-c528-4bac-8d21-2b5635ef22be')\"\n",
              "              title=\"Convert this dataframe to an interactive table.\"\n",
              "              style=\"display:none;\">\n",
              "        \n",
              "  <svg xmlns=\"http://www.w3.org/2000/svg\" height=\"24px\"viewBox=\"0 0 24 24\"\n",
              "       width=\"24px\">\n",
              "    <path d=\"M0 0h24v24H0V0z\" fill=\"none\"/>\n",
              "    <path d=\"M18.56 5.44l.94 2.06.94-2.06 2.06-.94-2.06-.94-.94-2.06-.94 2.06-2.06.94zm-11 1L8.5 8.5l.94-2.06 2.06-.94-2.06-.94L8.5 2.5l-.94 2.06-2.06.94zm10 10l.94 2.06.94-2.06 2.06-.94-2.06-.94-.94-2.06-.94 2.06-2.06.94z\"/><path d=\"M17.41 7.96l-1.37-1.37c-.4-.4-.92-.59-1.43-.59-.52 0-1.04.2-1.43.59L10.3 9.45l-7.72 7.72c-.78.78-.78 2.05 0 2.83L4 21.41c.39.39.9.59 1.41.59.51 0 1.02-.2 1.41-.59l7.78-7.78 2.81-2.81c.8-.78.8-2.07 0-2.86zM5.41 20L4 18.59l7.72-7.72 1.47 1.35L5.41 20z\"/>\n",
              "  </svg>\n",
              "      </button>\n",
              "      \n",
              "  <style>\n",
              "    .colab-df-container {\n",
              "      display:flex;\n",
              "      flex-wrap:wrap;\n",
              "      gap: 12px;\n",
              "    }\n",
              "\n",
              "    .colab-df-convert {\n",
              "      background-color: #E8F0FE;\n",
              "      border: none;\n",
              "      border-radius: 50%;\n",
              "      cursor: pointer;\n",
              "      display: none;\n",
              "      fill: #1967D2;\n",
              "      height: 32px;\n",
              "      padding: 0 0 0 0;\n",
              "      width: 32px;\n",
              "    }\n",
              "\n",
              "    .colab-df-convert:hover {\n",
              "      background-color: #E2EBFA;\n",
              "      box-shadow: 0px 1px 2px rgba(60, 64, 67, 0.3), 0px 1px 3px 1px rgba(60, 64, 67, 0.15);\n",
              "      fill: #174EA6;\n",
              "    }\n",
              "\n",
              "    [theme=dark] .colab-df-convert {\n",
              "      background-color: #3B4455;\n",
              "      fill: #D2E3FC;\n",
              "    }\n",
              "\n",
              "    [theme=dark] .colab-df-convert:hover {\n",
              "      background-color: #434B5C;\n",
              "      box-shadow: 0px 1px 3px 1px rgba(0, 0, 0, 0.15);\n",
              "      filter: drop-shadow(0px 1px 2px rgba(0, 0, 0, 0.3));\n",
              "      fill: #FFFFFF;\n",
              "    }\n",
              "  </style>\n",
              "\n",
              "      <script>\n",
              "        const buttonEl =\n",
              "          document.querySelector('#df-629a4a9b-c528-4bac-8d21-2b5635ef22be button.colab-df-convert');\n",
              "        buttonEl.style.display =\n",
              "          google.colab.kernel.accessAllowed ? 'block' : 'none';\n",
              "\n",
              "        async function convertToInteractive(key) {\n",
              "          const element = document.querySelector('#df-629a4a9b-c528-4bac-8d21-2b5635ef22be');\n",
              "          const dataTable =\n",
              "            await google.colab.kernel.invokeFunction('convertToInteractive',\n",
              "                                                     [key], {});\n",
              "          if (!dataTable) return;\n",
              "\n",
              "          const docLinkHtml = 'Like what you see? Visit the ' +\n",
              "            '<a target=\"_blank\" href=https://colab.research.google.com/notebooks/data_table.ipynb>data table notebook</a>'\n",
              "            + ' to learn more about interactive tables.';\n",
              "          element.innerHTML = '';\n",
              "          dataTable['output_type'] = 'display_data';\n",
              "          await google.colab.output.renderOutput(dataTable, element);\n",
              "          const docLink = document.createElement('div');\n",
              "          docLink.innerHTML = docLinkHtml;\n",
              "          element.appendChild(docLink);\n",
              "        }\n",
              "      </script>\n",
              "    </div>\n",
              "  </div>\n",
              "  "
            ]
          },
          "metadata": {},
          "execution_count": 11
        }
      ]
    },
    {
      "cell_type": "code",
      "source": [
        "from google.colab import drive\n",
        "drive.mount('/content/drive')"
      ],
      "metadata": {
        "colab": {
          "base_uri": "https://localhost:8080/"
        },
        "id": "bsYKCZr0-Q-n",
        "outputId": "b49e9b6c-c118-423c-ed19-91ed320544af"
      },
      "execution_count": 1,
      "outputs": [
        {
          "output_type": "stream",
          "name": "stdout",
          "text": [
            "Mounted at /content/drive\n"
          ]
        }
      ]
    },
    {
      "cell_type": "code",
      "source": [
        "data.shape"
      ],
      "metadata": {
        "colab": {
          "base_uri": "https://localhost:8080/"
        },
        "id": "YBb-c-o9-Gim",
        "outputId": "2a148e21-8ef8-411e-ffdd-69462a652ea6"
      },
      "execution_count": 12,
      "outputs": [
        {
          "output_type": "execute_result",
          "data": {
            "text/plain": [
              "(9205, 15)"
            ]
          },
          "metadata": {},
          "execution_count": 12
        }
      ]
    },
    {
      "cell_type": "code",
      "source": [
        "#checking null values in our data\n",
        "data.isnull().sum()"
      ],
      "metadata": {
        "colab": {
          "base_uri": "https://localhost:8080/"
        },
        "id": "asgmnRHb-Gfo",
        "outputId": "941ee5ec-a1e2-4ad1-d84b-f09718f52a9f"
      },
      "execution_count": 13,
      "outputs": [
        {
          "output_type": "execute_result",
          "data": {
            "text/plain": [
              "tweet_id                           0\n",
              "airline_sentiment                  0\n",
              "airline_sentiment_confidence       0\n",
              "negativereason                  4077\n",
              "negativereason_confidence       3151\n",
              "airline                            0\n",
              "airline_sentiment_gold          9184\n",
              "name                               0\n",
              "negativereason_gold             9188\n",
              "retweet_count                      0\n",
              "text                               0\n",
              "tweet_coord                     8515\n",
              "tweet_created                      0\n",
              "tweet_location                  2879\n",
              "user_timezone                   2890\n",
              "dtype: int64"
            ]
          },
          "metadata": {},
          "execution_count": 13
        }
      ]
    },
    {
      "cell_type": "code",
      "source": [
        "#checking info our data\n",
        "data.info()"
      ],
      "metadata": {
        "colab": {
          "base_uri": "https://localhost:8080/"
        },
        "id": "_IiBDBvu-GbC",
        "outputId": "1ba155ef-5bf9-49ef-aed1-9ebd3ad8dd37"
      },
      "execution_count": 14,
      "outputs": [
        {
          "output_type": "stream",
          "name": "stdout",
          "text": [
            "<class 'pandas.core.frame.DataFrame'>\n",
            "RangeIndex: 9205 entries, 0 to 9204\n",
            "Data columns (total 15 columns):\n",
            " #   Column                        Non-Null Count  Dtype  \n",
            "---  ------                        --------------  -----  \n",
            " 0   tweet_id                      9205 non-null   float64\n",
            " 1   airline_sentiment             9205 non-null   object \n",
            " 2   airline_sentiment_confidence  9205 non-null   float64\n",
            " 3   negativereason                5128 non-null   object \n",
            " 4   negativereason_confidence     6054 non-null   float64\n",
            " 5   airline                       9205 non-null   object \n",
            " 6   airline_sentiment_gold        21 non-null     object \n",
            " 7   name                          9205 non-null   object \n",
            " 8   negativereason_gold           17 non-null     object \n",
            " 9   retweet_count                 9205 non-null   int64  \n",
            " 10  text                          9205 non-null   object \n",
            " 11  tweet_coord                   690 non-null    object \n",
            " 12  tweet_created                 9205 non-null   object \n",
            " 13  tweet_location                6326 non-null   object \n",
            " 14  user_timezone                 6315 non-null   object \n",
            "dtypes: float64(3), int64(1), object(11)\n",
            "memory usage: 1.1+ MB\n"
          ]
        }
      ]
    },
    {
      "cell_type": "markdown",
      "source": [
        "tweet_created column got the date recorts and showing type is object we have to change it of date time format"
      ],
      "metadata": {
        "id": "X29BhpWs_TBh"
      }
    },
    {
      "cell_type": "code",
      "source": [
        "data['tweet_created'] = pd.to_datetime(data['tweet_created'],utc=True)"
      ],
      "metadata": {
        "id": "Eekyf3Xc-GZi"
      },
      "execution_count": 20,
      "outputs": []
    },
    {
      "cell_type": "code",
      "source": [
        "data.info()"
      ],
      "metadata": {
        "colab": {
          "base_uri": "https://localhost:8080/"
        },
        "id": "vrwL3Mli-GUn",
        "outputId": "07993a0a-0870-48ae-937f-23fc995b8e75"
      },
      "execution_count": 21,
      "outputs": [
        {
          "output_type": "stream",
          "name": "stdout",
          "text": [
            "<class 'pandas.core.frame.DataFrame'>\n",
            "RangeIndex: 9205 entries, 0 to 9204\n",
            "Data columns (total 15 columns):\n",
            " #   Column                        Non-Null Count  Dtype              \n",
            "---  ------                        --------------  -----              \n",
            " 0   tweet_id                      9205 non-null   float64            \n",
            " 1   airline_sentiment             9205 non-null   object             \n",
            " 2   airline_sentiment_confidence  9205 non-null   float64            \n",
            " 3   negativereason                5128 non-null   object             \n",
            " 4   negativereason_confidence     6054 non-null   float64            \n",
            " 5   airline                       9205 non-null   object             \n",
            " 6   airline_sentiment_gold        21 non-null     object             \n",
            " 7   name                          9205 non-null   object             \n",
            " 8   negativereason_gold           17 non-null     object             \n",
            " 9   retweet_count                 9205 non-null   int64              \n",
            " 10  text                          9205 non-null   object             \n",
            " 11  tweet_coord                   690 non-null    object             \n",
            " 12  tweet_created                 9205 non-null   datetime64[ns, UTC]\n",
            " 13  tweet_location                6326 non-null   object             \n",
            " 14  user_timezone                 6315 non-null   object             \n",
            "dtypes: datetime64[ns, UTC](1), float64(3), int64(1), object(10)\n",
            "memory usage: 1.1+ MB\n"
          ]
        }
      ]
    },
    {
      "cell_type": "markdown",
      "source": [
        "Treating with null values"
      ],
      "metadata": {
        "id": "EPyQj2PJ_uNw"
      }
    },
    {
      "cell_type": "code",
      "source": [
        "data.isna().sum()\n",
        "print(\"Percentage null or na values in df\")\n",
        "((data.isnull() | data.isna()).sum() * 100 / data.index.size).round(2)"
      ],
      "metadata": {
        "colab": {
          "base_uri": "https://localhost:8080/"
        },
        "id": "S4i1Nvoc-GS7",
        "outputId": "596b9d1f-8809-4e65-d48d-c63a201a6f57"
      },
      "execution_count": 22,
      "outputs": [
        {
          "output_type": "stream",
          "name": "stdout",
          "text": [
            "Percentage null or na values in df\n"
          ]
        },
        {
          "output_type": "execute_result",
          "data": {
            "text/plain": [
              "tweet_id                         0.00\n",
              "airline_sentiment                0.00\n",
              "airline_sentiment_confidence     0.00\n",
              "negativereason                  44.29\n",
              "negativereason_confidence       34.23\n",
              "airline                          0.00\n",
              "airline_sentiment_gold          99.77\n",
              "name                             0.00\n",
              "negativereason_gold             99.82\n",
              "retweet_count                    0.00\n",
              "text                             0.00\n",
              "tweet_coord                     92.50\n",
              "tweet_created                    0.00\n",
              "tweet_location                  31.28\n",
              "user_timezone                   31.40\n",
              "dtype: float64"
            ]
          },
          "metadata": {},
          "execution_count": 22
        }
      ]
    },
    {
      "cell_type": "markdown",
      "source": [
        "airline_sentiment_gold, negativereason_gold have more than 99% missing data And tweet_coord have nearly 93% missing data. It will be better to delete these columns as they will not provide any constructive information"
      ],
      "metadata": {
        "id": "9URGXRYp_3FY"
      }
    },
    {
      "cell_type": "code",
      "source": [
        "del data['tweet_coord']\n",
        "del data['airline_sentiment_gold']\n",
        "del data['negativereason_gold']\n",
        "data.head()"
      ],
      "metadata": {
        "colab": {
          "base_uri": "https://localhost:8080/",
          "height": 496
        },
        "id": "RHzIE4YV_zM6",
        "outputId": "f6e7cd92-d9e1-4538-ea4b-ddf65a5f221b"
      },
      "execution_count": 23,
      "outputs": [
        {
          "output_type": "execute_result",
          "data": {
            "text/plain": [
              "       tweet_id airline_sentiment  airline_sentiment_confidence  \\\n",
              "0  5.703061e+17           neutral                        1.0000   \n",
              "1  5.703011e+17          positive                        0.3486   \n",
              "2  5.703011e+17           neutral                        0.6837   \n",
              "3  5.703010e+17          negative                        1.0000   \n",
              "4  5.703008e+17          negative                        1.0000   \n",
              "\n",
              "  negativereason  negativereason_confidence         airline        name  \\\n",
              "0            NaN                        NaN  Virgin America     cairdin   \n",
              "1            NaN                     0.0000  Virgin America    jnardino   \n",
              "2            NaN                        NaN  Virgin America  yvonnalynn   \n",
              "3     Bad Flight                     0.7033  Virgin America    jnardino   \n",
              "4     Can't Tell                     1.0000  Virgin America    jnardino   \n",
              "\n",
              "   retweet_count                                               text  \\\n",
              "0              0                @VirginAmerica What @dhepburn said.   \n",
              "1              0  @VirginAmerica plus you've added commercials t...   \n",
              "2              0  @VirginAmerica I didn't today... Must mean I n...   \n",
              "3              0  @VirginAmerica it's really aggressive to blast...   \n",
              "4              0  @VirginAmerica and it's a really big bad thing...   \n",
              "\n",
              "              tweet_created tweet_location               user_timezone  \n",
              "0 2015-02-24 19:35:52+00:00            NaN  Eastern Time (US & Canada)  \n",
              "1 2015-02-24 19:15:59+00:00            NaN  Pacific Time (US & Canada)  \n",
              "2 2015-02-24 19:15:48+00:00      Lets Play  Central Time (US & Canada)  \n",
              "3 2015-02-24 19:15:36+00:00            NaN  Pacific Time (US & Canada)  \n",
              "4 2015-02-24 19:14:45+00:00            NaN  Pacific Time (US & Canada)  "
            ],
            "text/html": [
              "\n",
              "  <div id=\"df-5dac0a28-3c40-4aea-ac10-abf11971af56\">\n",
              "    <div class=\"colab-df-container\">\n",
              "      <div>\n",
              "<style scoped>\n",
              "    .dataframe tbody tr th:only-of-type {\n",
              "        vertical-align: middle;\n",
              "    }\n",
              "\n",
              "    .dataframe tbody tr th {\n",
              "        vertical-align: top;\n",
              "    }\n",
              "\n",
              "    .dataframe thead th {\n",
              "        text-align: right;\n",
              "    }\n",
              "</style>\n",
              "<table border=\"1\" class=\"dataframe\">\n",
              "  <thead>\n",
              "    <tr style=\"text-align: right;\">\n",
              "      <th></th>\n",
              "      <th>tweet_id</th>\n",
              "      <th>airline_sentiment</th>\n",
              "      <th>airline_sentiment_confidence</th>\n",
              "      <th>negativereason</th>\n",
              "      <th>negativereason_confidence</th>\n",
              "      <th>airline</th>\n",
              "      <th>name</th>\n",
              "      <th>retweet_count</th>\n",
              "      <th>text</th>\n",
              "      <th>tweet_created</th>\n",
              "      <th>tweet_location</th>\n",
              "      <th>user_timezone</th>\n",
              "    </tr>\n",
              "  </thead>\n",
              "  <tbody>\n",
              "    <tr>\n",
              "      <th>0</th>\n",
              "      <td>5.703061e+17</td>\n",
              "      <td>neutral</td>\n",
              "      <td>1.0000</td>\n",
              "      <td>NaN</td>\n",
              "      <td>NaN</td>\n",
              "      <td>Virgin America</td>\n",
              "      <td>cairdin</td>\n",
              "      <td>0</td>\n",
              "      <td>@VirginAmerica What @dhepburn said.</td>\n",
              "      <td>2015-02-24 19:35:52+00:00</td>\n",
              "      <td>NaN</td>\n",
              "      <td>Eastern Time (US &amp; Canada)</td>\n",
              "    </tr>\n",
              "    <tr>\n",
              "      <th>1</th>\n",
              "      <td>5.703011e+17</td>\n",
              "      <td>positive</td>\n",
              "      <td>0.3486</td>\n",
              "      <td>NaN</td>\n",
              "      <td>0.0000</td>\n",
              "      <td>Virgin America</td>\n",
              "      <td>jnardino</td>\n",
              "      <td>0</td>\n",
              "      <td>@VirginAmerica plus you've added commercials t...</td>\n",
              "      <td>2015-02-24 19:15:59+00:00</td>\n",
              "      <td>NaN</td>\n",
              "      <td>Pacific Time (US &amp; Canada)</td>\n",
              "    </tr>\n",
              "    <tr>\n",
              "      <th>2</th>\n",
              "      <td>5.703011e+17</td>\n",
              "      <td>neutral</td>\n",
              "      <td>0.6837</td>\n",
              "      <td>NaN</td>\n",
              "      <td>NaN</td>\n",
              "      <td>Virgin America</td>\n",
              "      <td>yvonnalynn</td>\n",
              "      <td>0</td>\n",
              "      <td>@VirginAmerica I didn't today... Must mean I n...</td>\n",
              "      <td>2015-02-24 19:15:48+00:00</td>\n",
              "      <td>Lets Play</td>\n",
              "      <td>Central Time (US &amp; Canada)</td>\n",
              "    </tr>\n",
              "    <tr>\n",
              "      <th>3</th>\n",
              "      <td>5.703010e+17</td>\n",
              "      <td>negative</td>\n",
              "      <td>1.0000</td>\n",
              "      <td>Bad Flight</td>\n",
              "      <td>0.7033</td>\n",
              "      <td>Virgin America</td>\n",
              "      <td>jnardino</td>\n",
              "      <td>0</td>\n",
              "      <td>@VirginAmerica it's really aggressive to blast...</td>\n",
              "      <td>2015-02-24 19:15:36+00:00</td>\n",
              "      <td>NaN</td>\n",
              "      <td>Pacific Time (US &amp; Canada)</td>\n",
              "    </tr>\n",
              "    <tr>\n",
              "      <th>4</th>\n",
              "      <td>5.703008e+17</td>\n",
              "      <td>negative</td>\n",
              "      <td>1.0000</td>\n",
              "      <td>Can't Tell</td>\n",
              "      <td>1.0000</td>\n",
              "      <td>Virgin America</td>\n",
              "      <td>jnardino</td>\n",
              "      <td>0</td>\n",
              "      <td>@VirginAmerica and it's a really big bad thing...</td>\n",
              "      <td>2015-02-24 19:14:45+00:00</td>\n",
              "      <td>NaN</td>\n",
              "      <td>Pacific Time (US &amp; Canada)</td>\n",
              "    </tr>\n",
              "  </tbody>\n",
              "</table>\n",
              "</div>\n",
              "      <button class=\"colab-df-convert\" onclick=\"convertToInteractive('df-5dac0a28-3c40-4aea-ac10-abf11971af56')\"\n",
              "              title=\"Convert this dataframe to an interactive table.\"\n",
              "              style=\"display:none;\">\n",
              "        \n",
              "  <svg xmlns=\"http://www.w3.org/2000/svg\" height=\"24px\"viewBox=\"0 0 24 24\"\n",
              "       width=\"24px\">\n",
              "    <path d=\"M0 0h24v24H0V0z\" fill=\"none\"/>\n",
              "    <path d=\"M18.56 5.44l.94 2.06.94-2.06 2.06-.94-2.06-.94-.94-2.06-.94 2.06-2.06.94zm-11 1L8.5 8.5l.94-2.06 2.06-.94-2.06-.94L8.5 2.5l-.94 2.06-2.06.94zm10 10l.94 2.06.94-2.06 2.06-.94-2.06-.94-.94-2.06-.94 2.06-2.06.94z\"/><path d=\"M17.41 7.96l-1.37-1.37c-.4-.4-.92-.59-1.43-.59-.52 0-1.04.2-1.43.59L10.3 9.45l-7.72 7.72c-.78.78-.78 2.05 0 2.83L4 21.41c.39.39.9.59 1.41.59.51 0 1.02-.2 1.41-.59l7.78-7.78 2.81-2.81c.8-.78.8-2.07 0-2.86zM5.41 20L4 18.59l7.72-7.72 1.47 1.35L5.41 20z\"/>\n",
              "  </svg>\n",
              "      </button>\n",
              "      \n",
              "  <style>\n",
              "    .colab-df-container {\n",
              "      display:flex;\n",
              "      flex-wrap:wrap;\n",
              "      gap: 12px;\n",
              "    }\n",
              "\n",
              "    .colab-df-convert {\n",
              "      background-color: #E8F0FE;\n",
              "      border: none;\n",
              "      border-radius: 50%;\n",
              "      cursor: pointer;\n",
              "      display: none;\n",
              "      fill: #1967D2;\n",
              "      height: 32px;\n",
              "      padding: 0 0 0 0;\n",
              "      width: 32px;\n",
              "    }\n",
              "\n",
              "    .colab-df-convert:hover {\n",
              "      background-color: #E2EBFA;\n",
              "      box-shadow: 0px 1px 2px rgba(60, 64, 67, 0.3), 0px 1px 3px 1px rgba(60, 64, 67, 0.15);\n",
              "      fill: #174EA6;\n",
              "    }\n",
              "\n",
              "    [theme=dark] .colab-df-convert {\n",
              "      background-color: #3B4455;\n",
              "      fill: #D2E3FC;\n",
              "    }\n",
              "\n",
              "    [theme=dark] .colab-df-convert:hover {\n",
              "      background-color: #434B5C;\n",
              "      box-shadow: 0px 1px 3px 1px rgba(0, 0, 0, 0.15);\n",
              "      filter: drop-shadow(0px 1px 2px rgba(0, 0, 0, 0.3));\n",
              "      fill: #FFFFFF;\n",
              "    }\n",
              "  </style>\n",
              "\n",
              "      <script>\n",
              "        const buttonEl =\n",
              "          document.querySelector('#df-5dac0a28-3c40-4aea-ac10-abf11971af56 button.colab-df-convert');\n",
              "        buttonEl.style.display =\n",
              "          google.colab.kernel.accessAllowed ? 'block' : 'none';\n",
              "\n",
              "        async function convertToInteractive(key) {\n",
              "          const element = document.querySelector('#df-5dac0a28-3c40-4aea-ac10-abf11971af56');\n",
              "          const dataTable =\n",
              "            await google.colab.kernel.invokeFunction('convertToInteractive',\n",
              "                                                     [key], {});\n",
              "          if (!dataTable) return;\n",
              "\n",
              "          const docLinkHtml = 'Like what you see? Visit the ' +\n",
              "            '<a target=\"_blank\" href=https://colab.research.google.com/notebooks/data_table.ipynb>data table notebook</a>'\n",
              "            + ' to learn more about interactive tables.';\n",
              "          element.innerHTML = '';\n",
              "          dataTable['output_type'] = 'display_data';\n",
              "          await google.colab.output.renderOutput(dataTable, element);\n",
              "          const docLink = document.createElement('div');\n",
              "          docLink.innerHTML = docLinkHtml;\n",
              "          element.appendChild(docLink);\n",
              "        }\n",
              "      </script>\n",
              "    </div>\n",
              "  </div>\n",
              "  "
            ]
          },
          "metadata": {},
          "execution_count": 23
        }
      ]
    },
    {
      "cell_type": "code",
      "source": [
        "freq = data.groupby('negativereason').size()\n",
        "freq"
      ],
      "metadata": {
        "colab": {
          "base_uri": "https://localhost:8080/"
        },
        "id": "_5qFnlGp_zKO",
        "outputId": "3e0f244e-2846-4973-aecf-c9155f27d865"
      },
      "execution_count": 25,
      "outputs": [
        {
          "output_type": "execute_result",
          "data": {
            "text/plain": [
              "negativereason\n",
              "Bad Flight                      393\n",
              "Can't Tell                      772\n",
              "Cancelled Flight                418\n",
              "Customer Service Issue         1399\n",
              "Damaged Luggage                  51\n",
              "Flight Attendant Complaints     278\n",
              "Flight Booking Problems         292\n",
              "Late Flight                     986\n",
              "Lost Luggage                    442\n",
              "longlines                        97\n",
              "dtype: int64"
            ]
          },
          "metadata": {},
          "execution_count": 25
        }
      ]
    },
    {
      "cell_type": "markdown",
      "source": [
        "we cant fill it will affect in bad way for example we have positive review and we fill the values with mode that means with Customer Service Issue it is missmatch and can be affect on train model so we keep the data as it is."
      ],
      "metadata": {
        "id": "Kgm-GfZcCNLM"
      }
    },
    {
      "cell_type": "code",
      "source": [
        "ax = sns.countplot(x=\"airline_sentiment\", data=data)"
      ],
      "metadata": {
        "colab": {
          "base_uri": "https://localhost:8080/",
          "height": 280
        },
        "id": "hr3bzPr3_zHA",
        "outputId": "e0a5623d-d015-42e6-c68d-729fe00590a5"
      },
      "execution_count": 27,
      "outputs": [
        {
          "output_type": "display_data",
          "data": {
            "text/plain": [
              "<Figure size 432x288 with 1 Axes>"
            ],
            "image/png": "[encoded data removed]"
          },
          "metadata": {
            "needs_background": "light"
          }
        }
      ]
    },
    {
      "cell_type": "code",
      "source": [
        "figure_2 = data.groupby(['airline', 'airline_sentiment']).size()\n",
        "figure_2.unstack().plot(kind='bar', stacked=True, figsize=(15,10))"
      ],
      "metadata": {
        "colab": {
          "base_uri": "https://localhost:8080/",
          "height": 688
        },
        "id": "2U7Cybxz_zEJ",
        "outputId": "7e18eb27-c117-44dd-8e8c-b5005cc4bedd"
      },
      "execution_count": 28,
      "outputs": [
        {
          "output_type": "execute_result",
          "data": {
            "text/plain": [
              "<matplotlib.axes._subplots.AxesSubplot at 0x7fc6a6798d50>"
            ]
          },
          "metadata": {},
          "execution_count": 28
        },
        {
          "output_type": "display_data",
          "data": {
            "text/plain": [
              "<Figure size 1080x720 with 1 Axes>"
            ],
            "image/png": "[encoded data removed]"
          },
          "metadata": {
            "needs_background": "light"
          }
        }
      ]
    },
    {
      "cell_type": "code",
      "source": [
        "print(figure_2)"
      ],
      "metadata": {
        "colab": {
          "base_uri": "https://localhost:8080/"
        },
        "id": "c9D0xTPtC8Gt",
        "outputId": "5c657d08-7d26-43fc-b956-dd1e15a05342"
      },
      "execution_count": 29,
      "outputs": [
        {
          "output_type": "stream",
          "name": "stdout",
          "text": [
            "airline         airline_sentiment\n",
            "Delta           negative              953\n",
            "                neutral               723\n",
            "                positive              544\n",
            "Southwest       negative             1186\n",
            "                neutral               664\n",
            "                positive              570\n",
            "US Airways      negative              175\n",
            "                neutral                44\n",
            "                positive               20\n",
            "United          negative             2633\n",
            "                neutral               697\n",
            "                positive              492\n",
            "Virgin America  negative              181\n",
            "                neutral               171\n",
            "                positive              152\n",
            "dtype: int64\n"
          ]
        }
      ]
    },
    {
      "cell_type": "markdown",
      "source": [
        "# people complained for many reasons about their flights; 10 reasons to be specific"
      ],
      "metadata": {
        "id": "3-HaassnDCEH"
      }
    },
    {
      "cell_type": "code",
      "source": [
        "negative_reasons = data.groupby('airline')['negativereason'].value_counts(ascending=True)\n",
        "negative_reasons.groupby(['airline','negativereason']).sum().unstack().plot(kind='bar',figsize=(22,12))\n",
        "plt.xlabel('Airline Company')\n",
        "plt.ylabel('Number of Negative reasons')\n",
        "plt.title(\"The number of the count of negative reasons for airlines\")\n",
        "plt.show()"
      ],
      "metadata": {
        "colab": {
          "base_uri": "https://localhost:8080/",
          "height": 772
        },
        "id": "3HnXfFb6DHpl",
        "outputId": "86f73611-d691-4c29-e9f5-707629e95f01"
      },
      "execution_count": 30,
      "outputs": [
        {
          "output_type": "display_data",
          "data": {
            "text/plain": [
              "<Figure size 1584x864 with 1 Axes>"
            ],
            "image/png": "[encoded data removed]"
          },
          "metadata": {
            "needs_background": "light"
          }
        }
      ]
    },
    {
      "cell_type": "markdown",
      "source": [
        "# What are the reasons for negative sentimental tweets for each airline ?\n",
        "We will explore the negative reason column of our dataframe to extract conclusions about negative sentiments in the tweets by the customers"
      ],
      "metadata": {
        "id": "Udi6VDOODjTt"
      }
    },
    {
      "cell_type": "code",
      "source": [
        "#get the number of negative reasons\n",
        "data['negativereason'].nunique()\n",
        "\n",
        "NR_Count=dict(data['negativereason'].value_counts(sort=False))\n",
        "def NR_Count(Airline):\n",
        "    if Airline=='All':\n",
        "        a=data\n",
        "    else:\n",
        "        a=data[data['airline']==Airline]\n",
        "    count=dict(a['negativereason'].value_counts())\n",
        "    Unique_reason=list(data['negativereason'].unique())\n",
        "    Unique_reason=[x for x in Unique_reason if str(x) != 'nan']\n",
        "    Reason_frame=pd.DataFrame({'Reasons':Unique_reason})\n",
        "    Reason_frame['count']=Reason_frame['Reasons'].apply(lambda x: count[x])\n",
        "    return Reason_frame\n",
        "def plot_reason(Airline):\n",
        "    \n",
        "    a=NR_Count(Airline)\n",
        "    count=a['count']\n",
        "    Index = range(1,(len(a)+1))\n",
        "    plt.bar(Index,count, color=['red','yellow','blue','green','black','brown','gray','cyan','purple','orange'])\n",
        "    plt.xticks(Index,a['Reasons'],rotation=90)\n",
        "    plt.ylabel('Count')\n",
        "    plt.xlabel('Reason')\n",
        "    plt.title('Count of Reasons for '+Airline)\n",
        "    \n",
        "plot_reason('All')\n",
        "plt.figure(2,figsize=(13, 13))\n",
        "for i in airline:\n",
        "    indices= airlines.index(i)\n",
        "    plt.subplot(2,3,indices+1)\n",
        "    plt.subplots_adjust(hspace=0.9)\n",
        "    plot_reason(i)"
      ],
      "metadata": {
        "colab": {
          "base_uri": "https://localhost:8080/",
          "height": 661
        },
        "id": "UWkb3nHtDWz8",
        "outputId": "ad771ed1-44fe-42f3-9de1-86848c892d05"
      },
      "execution_count": 34,
      "outputs": [
        {
          "output_type": "error",
          "ename": "NameError",
          "evalue": "ignored",
          "traceback": [
            "\u001b[0;31m---------------------------------------------------------------------------\u001b[0m",
            "\u001b[0;31mNameError\u001b[0m                                 Traceback (most recent call last)",
            "\u001b[0;32m<ipython-input-34-eda184f89081>\u001b[0m in \u001b[0;36m<module>\u001b[0;34m\u001b[0m\n\u001b[1;32m     27\u001b[0m \u001b[0mplot_reason\u001b[0m\u001b[0;34m(\u001b[0m\u001b[0;34m'All'\u001b[0m\u001b[0;34m)\u001b[0m\u001b[0;34m\u001b[0m\u001b[0;34m\u001b[0m\u001b[0m\n\u001b[1;32m     28\u001b[0m \u001b[0mplt\u001b[0m\u001b[0;34m.\u001b[0m\u001b[0mfigure\u001b[0m\u001b[0;34m(\u001b[0m\u001b[0;36m2\u001b[0m\u001b[0;34m,\u001b[0m\u001b[0mfigsize\u001b[0m\u001b[0;34m=\u001b[0m\u001b[0;34m(\u001b[0m\u001b[0;36m13\u001b[0m\u001b[0;34m,\u001b[0m \u001b[0;36m13\u001b[0m\u001b[0;34m)\u001b[0m\u001b[0;34m)\u001b[0m\u001b[0;34m\u001b[0m\u001b[0;34m\u001b[0m\u001b[0m\n\u001b[0;32m---> 29\u001b[0;31m \u001b[0;32mfor\u001b[0m \u001b[0mi\u001b[0m \u001b[0;32min\u001b[0m \u001b[0mairline\u001b[0m\u001b[0;34m:\u001b[0m\u001b[0;34m\u001b[0m\u001b[0;34m\u001b[0m\u001b[0m\n\u001b[0m\u001b[1;32m     30\u001b[0m     \u001b[0mindices\u001b[0m\u001b[0;34m=\u001b[0m \u001b[0mairlines\u001b[0m\u001b[0;34m.\u001b[0m\u001b[0mindex\u001b[0m\u001b[0;34m(\u001b[0m\u001b[0mi\u001b[0m\u001b[0;34m)\u001b[0m\u001b[0;34m\u001b[0m\u001b[0;34m\u001b[0m\u001b[0m\n\u001b[1;32m     31\u001b[0m     \u001b[0mplt\u001b[0m\u001b[0;34m.\u001b[0m\u001b[0msubplot\u001b[0m\u001b[0;34m(\u001b[0m\u001b[0;36m2\u001b[0m\u001b[0;34m,\u001b[0m\u001b[0;36m3\u001b[0m\u001b[0;34m,\u001b[0m\u001b[0mindices\u001b[0m\u001b[0;34m+\u001b[0m\u001b[0;36m1\u001b[0m\u001b[0;34m)\u001b[0m\u001b[0;34m\u001b[0m\u001b[0;34m\u001b[0m\u001b[0m\n",
            "\u001b[0;31mNameError\u001b[0m: name 'airline' is not defined"
          ]
        },
        {
          "output_type": "display_data",
          "data": {
            "text/plain": [
              "<Figure size 432x288 with 1 Axes>"
            ],
            "image/png": "[encoded data removed]"
          },
          "metadata": {
            "needs_background": "light"
          }
        },
        {
          "output_type": "display_data",
          "data": {
            "text/plain": [
              "<Figure size 936x936 with 0 Axes>"
            ]
          },
          "metadata": {}
        }
      ]
    },
    {
      "cell_type": "markdown",
      "source": [
        "# **Is there a relationship between negative sentiments and date?\n",
        "It will be interesting to see if the date has any effect on the sentiments of the tweets(especially negative !). We can draw various coclusions by visualizing this.**"
      ],
      "metadata": {
        "id": "NJYfyAJpEWrQ"
      }
    },
    {
      "cell_type": "code",
      "source": [
        "date = data.reset_index()\n",
        "#convert the Date column to pandas datetime\n",
        "date.tweet_created = pd.to_datetime(date.tweet_created)\n",
        "#Reduce the dates in the date column to only the date and no time stamp using the 'dt.date' method\n",
        "date.tweet_created = date.tweet_created.dt.date\n",
        "date.tweet_created.head()\n",
        "df = date\n",
        "day_df = df.groupby(['tweet_created','airline','airline_sentiment']).size()\n",
        "# day_df = day_df.reset_index()\n",
        "day_df"
      ],
      "metadata": {
        "colab": {
          "base_uri": "https://localhost:8080/"
        },
        "id": "Ym0RkSHiEAW7",
        "outputId": "99558436-45e2-4bde-cba5-e3509278e639"
      },
      "execution_count": 35,
      "outputs": [
        {
          "output_type": "execute_result",
          "data": {
            "text/plain": [
              "tweet_created  airline         airline_sentiment\n",
              "2015-02-17     Delta           negative              51\n",
              "                               neutral               63\n",
              "                               positive              47\n",
              "               Southwest       negative             162\n",
              "                               neutral               69\n",
              "                                                   ... \n",
              "2015-02-24     United          neutral               88\n",
              "                               positive              55\n",
              "               Virgin America  negative              15\n",
              "                               neutral               15\n",
              "                               positive              19\n",
              "Length: 100, dtype: int64"
            ]
          },
          "metadata": {},
          "execution_count": 35
        }
      ]
    },
    {
      "cell_type": "code",
      "source": [
        "day_df = day_df.loc(axis=0)[:,:,'negative']\n",
        "\n",
        "#groupby and plot data\n",
        "ax2 = day_df.groupby(['tweet_created','airline']).sum().unstack().plot(kind = 'bar', color=['red', 'green', 'blue','yellow','purple','orange'], figsize = (15,6), rot = 70)\n",
        "labels = ['American','Delta','Southwest','US Airways','United','Virgin America']\n",
        "ax2.legend(labels = labels)\n",
        "ax2.set_xlabel('Date')\n",
        "ax2.set_ylabel('Negative Tweets')\n",
        "plt.show()"
      ],
      "metadata": {
        "colab": {
          "base_uri": "https://localhost:8080/",
          "height": 436
        },
        "id": "U02tTvwSEAT-",
        "outputId": "2afefa71-7190-4bd9-85a9-a0c77c91f926"
      },
      "execution_count": 36,
      "outputs": [
        {
          "output_type": "display_data",
          "data": {
            "text/plain": [
              "<Figure size 1080x432 with 1 Axes>"
            ],
            "image/png": "[encoded data removed]"
          },
          "metadata": {
            "needs_background": "light"
          }
        }
      ]
    },
    {
      "cell_type": "markdown",
      "source": [
        "1.Interestingly, American has a sudden upsurge in negative sentimental tweets on 2015-02-23, which reduced to half the very next day 2015-02-24. (I hope American is doing better these days and resolved their Customer Service Issue as we saw before)\n",
        "\n",
        "2.Virgin America has the least number of negative tweets throughout the weekly data that we have. It should be noted that the total number of tweets for Virgin America was also significantly less as compared to the rest airlines, and hence the least negative tweets.\n",
        "\n",
        "3.The negative tweets for all the rest airlines is slightly skewed towards the end of the week !"
      ],
      "metadata": {
        "id": "liQHYFFtEuZr"
      }
    },
    {
      "cell_type": "markdown",
      "source": [
        "# **Dropng the rows with neutral sentiments**"
      ],
      "metadata": {
        "id": "8Wg2Vm0kE9Vh"
      }
    },
    {
      "cell_type": "code",
      "source": [
        "data.drop(data.loc[data['airline_sentiment']=='neutral'].index, inplace=True)"
      ],
      "metadata": {
        "id": "QzB5Diq2EARQ"
      },
      "execution_count": 37,
      "outputs": []
    },
    {
      "cell_type": "markdown",
      "source": [
        "# **Label encoding on airline_sentiment**"
      ],
      "metadata": {
        "id": "XnR9k77QFFN0"
      }
    },
    {
      "cell_type": "code",
      "source": [
        "from sklearn.preprocessing import LabelEncoder\n",
        "\n",
        "le = LabelEncoder()\n",
        "le.fit(data['airline_sentiment'])\n",
        "\n",
        "data['airline_sentiment_encoded'] = le.transform(data['airline_sentiment'])\n",
        "data.head()"
      ],
      "metadata": {
        "colab": {
          "base_uri": "https://localhost:8080/",
          "height": 513
        },
        "id": "Ovqy9rbUFClH",
        "outputId": "7a9547cc-7ca4-476d-edd9-16c85d2505c2"
      },
      "execution_count": 38,
      "outputs": [
        {
          "output_type": "execute_result",
          "data": {
            "text/plain": [
              "       tweet_id airline_sentiment  airline_sentiment_confidence  \\\n",
              "1  5.703011e+17          positive                        0.3486   \n",
              "3  5.703010e+17          negative                        1.0000   \n",
              "4  5.703008e+17          negative                        1.0000   \n",
              "5  5.703008e+17          negative                        1.0000   \n",
              "6  5.703006e+17          positive                        0.6745   \n",
              "\n",
              "  negativereason  negativereason_confidence         airline        name  \\\n",
              "1            NaN                     0.0000  Virgin America    jnardino   \n",
              "3     Bad Flight                     0.7033  Virgin America    jnardino   \n",
              "4     Can't Tell                     1.0000  Virgin America    jnardino   \n",
              "5     Can't Tell                     0.6842  Virgin America    jnardino   \n",
              "6            NaN                     0.0000  Virgin America  cjmcginnis   \n",
              "\n",
              "   retweet_count                                               text  \\\n",
              "1              0  @VirginAmerica plus you've added commercials t...   \n",
              "3              0  @VirginAmerica it's really aggressive to blast...   \n",
              "4              0  @VirginAmerica and it's a really big bad thing...   \n",
              "5              0  @VirginAmerica seriously would pay $30 a fligh...   \n",
              "6              0  @VirginAmerica yes, nearly every time I fly VX...   \n",
              "\n",
              "              tweet_created    tweet_location               user_timezone  \\\n",
              "1 2015-02-24 19:15:59+00:00               NaN  Pacific Time (US & Canada)   \n",
              "3 2015-02-24 19:15:36+00:00               NaN  Pacific Time (US & Canada)   \n",
              "4 2015-02-24 19:14:45+00:00               NaN  Pacific Time (US & Canada)   \n",
              "5 2015-02-24 19:14:33+00:00               NaN  Pacific Time (US & Canada)   \n",
              "6 2015-02-24 19:13:57+00:00  San Francisco CA  Pacific Time (US & Canada)   \n",
              "\n",
              "   airline_sentiment_encoded  \n",
              "1                          1  \n",
              "3                          0  \n",
              "4                          0  \n",
              "5                          0  \n",
              "6                          1  "
            ],
            "text/html": [
              "\n",
              "  <div id=\"df-cbb0359d-c08a-4b70-84a9-13c5aafc5e14\">\n",
              "    <div class=\"colab-df-container\">\n",
              "      <div>\n",
              "<style scoped>\n",
              "    .dataframe tbody tr th:only-of-type {\n",
              "        vertical-align: middle;\n",
              "    }\n",
              "\n",
              "    .dataframe tbody tr th {\n",
              "        vertical-align: top;\n",
              "    }\n",
              "\n",
              "    .dataframe thead th {\n",
              "        text-align: right;\n",
              "    }\n",
              "</style>\n",
              "<table border=\"1\" class=\"dataframe\">\n",
              "  <thead>\n",
              "    <tr style=\"text-align: right;\">\n",
              "      <th></th>\n",
              "      <th>tweet_id</th>\n",
              "      <th>airline_sentiment</th>\n",
              "      <th>airline_sentiment_confidence</th>\n",
              "      <th>negativereason</th>\n",
              "      <th>negativereason_confidence</th>\n",
              "      <th>airline</th>\n",
              "      <th>name</th>\n",
              "      <th>retweet_count</th>\n",
              "      <th>text</th>\n",
              "      <th>tweet_created</th>\n",
              "      <th>tweet_location</th>\n",
              "      <th>user_timezone</th>\n",
              "      <th>airline_sentiment_encoded</th>\n",
              "    </tr>\n",
              "  </thead>\n",
              "  <tbody>\n",
              "    <tr>\n",
              "      <th>1</th>\n",
              "      <td>5.703011e+17</td>\n",
              "      <td>positive</td>\n",
              "      <td>0.3486</td>\n",
              "      <td>NaN</td>\n",
              "      <td>0.0000</td>\n",
              "      <td>Virgin America</td>\n",
              "      <td>jnardino</td>\n",
              "      <td>0</td>\n",
              "      <td>@VirginAmerica plus you've added commercials t...</td>\n",
              "      <td>2015-02-24 19:15:59+00:00</td>\n",
              "      <td>NaN</td>\n",
              "      <td>Pacific Time (US &amp; Canada)</td>\n",
              "      <td>1</td>\n",
              "    </tr>\n",
              "    <tr>\n",
              "      <th>3</th>\n",
              "      <td>5.703010e+17</td>\n",
              "      <td>negative</td>\n",
              "      <td>1.0000</td>\n",
              "      <td>Bad Flight</td>\n",
              "      <td>0.7033</td>\n",
              "      <td>Virgin America</td>\n",
              "      <td>jnardino</td>\n",
              "      <td>0</td>\n",
              "      <td>@VirginAmerica it's really aggressive to blast...</td>\n",
              "      <td>2015-02-24 19:15:36+00:00</td>\n",
              "      <td>NaN</td>\n",
              "      <td>Pacific Time (US &amp; Canada)</td>\n",
              "      <td>0</td>\n",
              "    </tr>\n",
              "    <tr>\n",
              "      <th>4</th>\n",
              "      <td>5.703008e+17</td>\n",
              "      <td>negative</td>\n",
              "      <td>1.0000</td>\n",
              "      <td>Can't Tell</td>\n",
              "      <td>1.0000</td>\n",
              "      <td>Virgin America</td>\n",
              "      <td>jnardino</td>\n",
              "      <td>0</td>\n",
              "      <td>@VirginAmerica and it's a really big bad thing...</td>\n",
              "      <td>2015-02-24 19:14:45+00:00</td>\n",
              "      <td>NaN</td>\n",
              "      <td>Pacific Time (US &amp; Canada)</td>\n",
              "      <td>0</td>\n",
              "    </tr>\n",
              "    <tr>\n",
              "      <th>5</th>\n",
              "      <td>5.703008e+17</td>\n",
              "      <td>negative</td>\n",
              "      <td>1.0000</td>\n",
              "      <td>Can't Tell</td>\n",
              "      <td>0.6842</td>\n",
              "      <td>Virgin America</td>\n",
              "      <td>jnardino</td>\n",
              "      <td>0</td>\n",
              "      <td>@VirginAmerica seriously would pay $30 a fligh...</td>\n",
              "      <td>2015-02-24 19:14:33+00:00</td>\n",
              "      <td>NaN</td>\n",
              "      <td>Pacific Time (US &amp; Canada)</td>\n",
              "      <td>0</td>\n",
              "    </tr>\n",
              "    <tr>\n",
              "      <th>6</th>\n",
              "      <td>5.703006e+17</td>\n",
              "      <td>positive</td>\n",
              "      <td>0.6745</td>\n",
              "      <td>NaN</td>\n",
              "      <td>0.0000</td>\n",
              "      <td>Virgin America</td>\n",
              "      <td>cjmcginnis</td>\n",
              "      <td>0</td>\n",
              "      <td>@VirginAmerica yes, nearly every time I fly VX...</td>\n",
              "      <td>2015-02-24 19:13:57+00:00</td>\n",
              "      <td>San Francisco CA</td>\n",
              "      <td>Pacific Time (US &amp; Canada)</td>\n",
              "      <td>1</td>\n",
              "    </tr>\n",
              "  </tbody>\n",
              "</table>\n",
              "</div>\n",
              "      <button class=\"colab-df-convert\" onclick=\"convertToInteractive('df-cbb0359d-c08a-4b70-84a9-13c5aafc5e14')\"\n",
              "              title=\"Convert this dataframe to an interactive table.\"\n",
              "              style=\"display:none;\">\n",
              "        \n",
              "  <svg xmlns=\"http://www.w3.org/2000/svg\" height=\"24px\"viewBox=\"0 0 24 24\"\n",
              "       width=\"24px\">\n",
              "    <path d=\"M0 0h24v24H0V0z\" fill=\"none\"/>\n",
              "    <path d=\"M18.56 5.44l.94 2.06.94-2.06 2.06-.94-2.06-.94-.94-2.06-.94 2.06-2.06.94zm-11 1L8.5 8.5l.94-2.06 2.06-.94-2.06-.94L8.5 2.5l-.94 2.06-2.06.94zm10 10l.94 2.06.94-2.06 2.06-.94-2.06-.94-.94-2.06-.94 2.06-2.06.94z\"/><path d=\"M17.41 7.96l-1.37-1.37c-.4-.4-.92-.59-1.43-.59-.52 0-1.04.2-1.43.59L10.3 9.45l-7.72 7.72c-.78.78-.78 2.05 0 2.83L4 21.41c.39.39.9.59 1.41.59.51 0 1.02-.2 1.41-.59l7.78-7.78 2.81-2.81c.8-.78.8-2.07 0-2.86zM5.41 20L4 18.59l7.72-7.72 1.47 1.35L5.41 20z\"/>\n",
              "  </svg>\n",
              "      </button>\n",
              "      \n",
              "  <style>\n",
              "    .colab-df-container {\n",
              "      display:flex;\n",
              "      flex-wrap:wrap;\n",
              "      gap: 12px;\n",
              "    }\n",
              "\n",
              "    .colab-df-convert {\n",
              "      background-color: #E8F0FE;\n",
              "      border: none;\n",
              "      border-radius: 50%;\n",
              "      cursor: pointer;\n",
              "      display: none;\n",
              "      fill: #1967D2;\n",
              "      height: 32px;\n",
              "      padding: 0 0 0 0;\n",
              "      width: 32px;\n",
              "    }\n",
              "\n",
              "    .colab-df-convert:hover {\n",
              "      background-color: #E2EBFA;\n",
              "      box-shadow: 0px 1px 2px rgba(60, 64, 67, 0.3), 0px 1px 3px 1px rgba(60, 64, 67, 0.15);\n",
              "      fill: #174EA6;\n",
              "    }\n",
              "\n",
              "    [theme=dark] .colab-df-convert {\n",
              "      background-color: #3B4455;\n",
              "      fill: #D2E3FC;\n",
              "    }\n",
              "\n",
              "    [theme=dark] .colab-df-convert:hover {\n",
              "      background-color: #434B5C;\n",
              "      box-shadow: 0px 1px 3px 1px rgba(0, 0, 0, 0.15);\n",
              "      filter: drop-shadow(0px 1px 2px rgba(0, 0, 0, 0.3));\n",
              "      fill: #FFFFFF;\n",
              "    }\n",
              "  </style>\n",
              "\n",
              "      <script>\n",
              "        const buttonEl =\n",
              "          document.querySelector('#df-cbb0359d-c08a-4b70-84a9-13c5aafc5e14 button.colab-df-convert');\n",
              "        buttonEl.style.display =\n",
              "          google.colab.kernel.accessAllowed ? 'block' : 'none';\n",
              "\n",
              "        async function convertToInteractive(key) {\n",
              "          const element = document.querySelector('#df-cbb0359d-c08a-4b70-84a9-13c5aafc5e14');\n",
              "          const dataTable =\n",
              "            await google.colab.kernel.invokeFunction('convertToInteractive',\n",
              "                                                     [key], {});\n",
              "          if (!dataTable) return;\n",
              "\n",
              "          const docLinkHtml = 'Like what you see? Visit the ' +\n",
              "            '<a target=\"_blank\" href=https://colab.research.google.com/notebooks/data_table.ipynb>data table notebook</a>'\n",
              "            + ' to learn more about interactive tables.';\n",
              "          element.innerHTML = '';\n",
              "          dataTable['output_type'] = 'display_data';\n",
              "          await google.colab.output.renderOutput(dataTable, element);\n",
              "          const docLink = document.createElement('div');\n",
              "          docLink.innerHTML = docLinkHtml;\n",
              "          element.appendChild(docLink);\n",
              "        }\n",
              "      </script>\n",
              "    </div>\n",
              "  </div>\n",
              "  "
            ]
          },
          "metadata": {},
          "execution_count": 38
        }
      ]
    },
    {
      "cell_type": "markdown",
      "source": [
        "**processing the tweet text data**"
      ],
      "metadata": {
        "id": "HCXR0n26FUKQ"
      }
    },
    {
      "cell_type": "code",
      "source": [
        "def tweet_to_words(tweet):\n",
        "    letters_only = re.sub(\"[^a-zA-Z]\", \" \",tweet) \n",
        "    words = letters_only.lower().split()                             \n",
        "    stops = set(stopwords.words(\"english\"))                  \n",
        "    meaningful_words = [w for w in words if not w in stops] \n",
        "    return( \" \".join( meaningful_words ))"
      ],
      "metadata": {
        "id": "rg88ReV3FCiS"
      },
      "execution_count": 39,
      "outputs": []
    },
    {
      "cell_type": "code",
      "source": [
        "nltk.download('stopwords')\n",
        "data['clean_tweet']=data['text'].apply(lambda x: tweet_to_words(x))"
      ],
      "metadata": {
        "colab": {
          "base_uri": "https://localhost:8080/"
        },
        "id": "d-llM77hFcHb",
        "outputId": "b08a5727-da40-4d21-d449-903b7c7bdc57"
      },
      "execution_count": 40,
      "outputs": [
        {
          "output_type": "stream",
          "name": "stderr",
          "text": [
            "[nltk_data] Downloading package stopwords to /root/nltk_data...\n",
            "[nltk_data]   Unzipping corpora/stopwords.zip.\n"
          ]
        }
      ]
    },
    {
      "cell_type": "code",
      "source": [
        "data.info()"
      ],
      "metadata": {
        "colab": {
          "base_uri": "https://localhost:8080/"
        },
        "id": "Fk7VHajSFcEB",
        "outputId": "4523def3-5d79-4443-90e0-1d52e4310110"
      },
      "execution_count": 41,
      "outputs": [
        {
          "output_type": "stream",
          "name": "stdout",
          "text": [
            "<class 'pandas.core.frame.DataFrame'>\n",
            "Int64Index: 6906 entries, 1 to 9204\n",
            "Data columns (total 14 columns):\n",
            " #   Column                        Non-Null Count  Dtype              \n",
            "---  ------                        --------------  -----              \n",
            " 0   tweet_id                      6906 non-null   float64            \n",
            " 1   airline_sentiment             6906 non-null   object             \n",
            " 2   airline_sentiment_confidence  6906 non-null   float64            \n",
            " 3   negativereason                5128 non-null   object             \n",
            " 4   negativereason_confidence     5358 non-null   float64            \n",
            " 5   airline                       6906 non-null   object             \n",
            " 6   name                          6906 non-null   object             \n",
            " 7   retweet_count                 6906 non-null   int64              \n",
            " 8   text                          6906 non-null   object             \n",
            " 9   tweet_created                 6906 non-null   datetime64[ns, UTC]\n",
            " 10  tweet_location                4718 non-null   object             \n",
            " 11  user_timezone                 4721 non-null   object             \n",
            " 12  airline_sentiment_encoded     6906 non-null   int64              \n",
            " 13  clean_tweet                   6906 non-null   object             \n",
            "dtypes: datetime64[ns, UTC](1), float64(3), int64(2), object(8)\n",
            "memory usage: 809.3+ KB\n"
          ]
        }
      ]
    },
    {
      "cell_type": "markdown",
      "source": [
        "# **Vectorization**"
      ],
      "metadata": {
        "id": "jD1oZ6JvFkqN"
      }
    },
    {
      "cell_type": "code",
      "source": [
        "x = data.clean_tweet\n",
        "y = data.airline_sentiment\n",
        "\n",
        "print(len(x), len(y))"
      ],
      "metadata": {
        "colab": {
          "base_uri": "https://localhost:8080/"
        },
        "id": "8Ad9R4B4Fb_K",
        "outputId": "abe33d00-e579-46c5-aeca-cd0cf7ffd01b"
      },
      "execution_count": 42,
      "outputs": [
        {
          "output_type": "stream",
          "name": "stdout",
          "text": [
            "6906 6906\n"
          ]
        }
      ]
    },
    {
      "cell_type": "code",
      "source": [
        "# splitting data into 80/20 percentage ratio\n",
        "x_train, x_test, y_train, y_test = train_test_split(x, y, random_state=42)\n",
        "print(len(x_train), len(y_train))\n",
        "print(len(x_test), len(y_test))"
      ],
      "metadata": {
        "colab": {
          "base_uri": "https://localhost:8080/"
        },
        "id": "gl4M15RXFb8F",
        "outputId": "18ebeabd-5e08-499f-fbd0-ebd74d71bece"
      },
      "execution_count": 43,
      "outputs": [
        {
          "output_type": "stream",
          "name": "stdout",
          "text": [
            "5179 5179\n",
            "1727 1727\n"
          ]
        }
      ]
    },
    {
      "cell_type": "code",
      "source": [
        "from sklearn.feature_extraction.text import CountVectorizer\n",
        "\n",
        "# instantiate the vectorizer\n",
        "vect = CountVectorizer()\n",
        "vect.fit(x_train)"
      ],
      "metadata": {
        "colab": {
          "base_uri": "https://localhost:8080/"
        },
        "id": "3usoQnImF2IN",
        "outputId": "e5f7c64b-3e3d-4786-abd1-d15c9705a325"
      },
      "execution_count": 44,
      "outputs": [
        {
          "output_type": "execute_result",
          "data": {
            "text/plain": [
              "CountVectorizer()"
            ]
          },
          "metadata": {},
          "execution_count": 44
        }
      ]
    },
    {
      "cell_type": "code",
      "source": [
        "# Use the trained to create a document-term matrix from train and test sets\n",
        "x_train_dtm = vect.transform(x_train)\n",
        "x_test_dtm = vect.transform(x_test)"
      ],
      "metadata": {
        "id": "CEfCBuiFF2C4"
      },
      "execution_count": 45,
      "outputs": []
    },
    {
      "cell_type": "code",
      "source": [
        "vect_tunned = CountVectorizer(stop_words='english', ngram_range=(1,2), min_df=0.1, max_df=0.7, max_features=100)\n",
        "vect_tunned"
      ],
      "metadata": {
        "colab": {
          "base_uri": "https://localhost:8080/"
        },
        "id": "BRS40UlrF8A_",
        "outputId": "7eeabae0-885b-4b38-f486-6baafb5746c5"
      },
      "execution_count": 46,
      "outputs": [
        {
          "output_type": "execute_result",
          "data": {
            "text/plain": [
              "CountVectorizer(max_df=0.7, max_features=100, min_df=0.1, ngram_range=(1, 2),\n",
              "                stop_words='english')"
            ]
          },
          "metadata": {},
          "execution_count": 46
        }
      ]
    },
    {
      "cell_type": "markdown",
      "source": [
        "# **Model Building**"
      ],
      "metadata": {
        "id": "5x8YVYxUGBqa"
      }
    },
    {
      "cell_type": "code",
      "source": [
        "#training SVM model with linear kernel\n",
        "#Support Vector Classification-wrapper around SVM\n",
        "from sklearn.svm import SVC\n",
        "model = SVC(kernel='linear', random_state = 10)\n",
        "model.fit(x_train_dtm, y_train)\n",
        "#predicting output for test data\n",
        "pred = model.predict(x_test_dtm)"
      ],
      "metadata": {
        "id": "k3btGY8xF79I"
      },
      "execution_count": 47,
      "outputs": []
    },
    {
      "cell_type": "code",
      "source": [
        "\n",
        "#defining the size of the canvas\n",
        "plt.rcParams['figure.figsize'] = [15,8]\n",
        "#confusion matrix to DataFrame\n",
        "conf_matrix = pd.DataFrame(data = cm,columns = ['Predicted:0','Predicted:1',], index = ['Actual:0','Actual:1',])\n",
        "#plotting the confusion matrix\n",
        "sns.heatmap(conf_matrix, annot = True, fmt = 'd', cmap = 'Paired', cbar = False,linewidths = 0.1, annot_kws = {'size':25})\n",
        "plt.xticks(fontsize = 20)\n",
        "plt.yticks(fontsize = 20)\n",
        "plt.show()"
      ],
      "metadata": {
        "colab": {
          "base_uri": "https://localhost:8080/",
          "height": 492
        },
        "id": "WL78HPMtF76A",
        "outputId": "439db126-42c3-4625-9f6f-f3937998913f"
      },
      "execution_count": 50,
      "outputs": [
        {
          "output_type": "display_data",
          "data": {
            "text/plain": [
              "<Figure size 1080x576 with 1 Axes>"
            ],
            "image/png": "[encoded data removed]"
          },
          "metadata": {
            "needs_background": "light"
          }
        }
      ]
    },
    {
      "cell_type": "code",
      "source": [
        "#accuracy score\n",
        "accuracy_score(y_test,pred)\n"
      ],
      "metadata": {
        "colab": {
          "base_uri": "https://localhost:8080/"
        },
        "id": "7WlMx8p_GVFe",
        "outputId": "0ec42a1f-6c8d-4371-9242-ca9f506cf364"
      },
      "execution_count": 52,
      "outputs": [
        {
          "output_type": "execute_result",
          "data": {
            "text/plain": [
              "0.8830341632889404"
            ]
          },
          "metadata": {},
          "execution_count": 52
        }
      ]
    },
    {
      "cell_type": "code",
      "source": [
        "#building confusion matrix\n",
        "cm = confusion_matrix(y_test, pred)\n",
        "cm"
      ],
      "metadata": {
        "colab": {
          "base_uri": "https://localhost:8080/"
        },
        "id": "BrdHb_SuGVCn",
        "outputId": "5ffde104-2bfd-46be-a81f-e3f12b3c7f51"
      },
      "execution_count": 53,
      "outputs": [
        {
          "output_type": "execute_result",
          "data": {
            "text/plain": [
              "array([[1204,   94],\n",
              "       [ 108,  321]])"
            ]
          },
          "metadata": {},
          "execution_count": 53
        }
      ]
    },
    {
      "cell_type": "code",
      "source": [
        "print(classification_report(y_test,pred))"
      ],
      "metadata": {
        "colab": {
          "base_uri": "https://localhost:8080/"
        },
        "id": "btnKYYHWGU-v",
        "outputId": "58db4bcb-5a4b-4187-cf1b-5cb79662e339"
      },
      "execution_count": 54,
      "outputs": [
        {
          "output_type": "stream",
          "name": "stdout",
          "text": [
            "              precision    recall  f1-score   support\n",
            "\n",
            "    negative       0.92      0.93      0.92      1298\n",
            "    positive       0.77      0.75      0.76       429\n",
            "\n",
            "    accuracy                           0.88      1727\n",
            "   macro avg       0.85      0.84      0.84      1727\n",
            "weighted avg       0.88      0.88      0.88      1727\n",
            "\n"
          ]
        }
      ]
    },
    {
      "cell_type": "markdown",
      "source": [
        "## ** As we you can see above we have plotted the confusion matrix for predicted sentiments and actual sentiments (negative and positive)\n",
        "SVM Classifier gives us the accuracy score i.e 88% precision scores according to the classification report.\n",
        "\n",
        "The confusion matrix shows the TP,TN,FP,FN for sentiments(negative, positive)**"
      ],
      "metadata": {
        "id": "19UvpTjlGod-"
      }
    }
  ]
}