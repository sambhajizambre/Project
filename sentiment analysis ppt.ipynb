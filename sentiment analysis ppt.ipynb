{
  "nbformat": 4,
  "nbformat_minor": 0,
  "metadata": {
    "colab": {
      "provenance": [],
      "mount_file_id": "11WF17KndiUsIQO_jIDXIa48KObQ70bfu",
      "authorship_tag": "ABX9TyNfkkXFmvK5ZuFXaMv6l37S",
      "include_colab_link": true
    },
    "kernelspec": {
      "name": "python3",
      "display_name": "Python 3"
    },
    "language_info": {
      "name": "python"
    }
  },
  "cells": [
    {
      "cell_type": "markdown",
      "metadata": {
        "id": "view-in-github",
        "colab_type": "text"
      },
      "source": [
        "<a href=\"https://colab.research.google.com/github/sambhajizambre/Project/blob/main/sentiment%20analysis%20ppt.ipynb\" target=\"_parent\"><img src=\"https://colab.research.google.com/assets/colab-badge.svg\" alt=\"Open In Colab\"/></a>"
      ]
    },
    {
      "cell_type": "code",
      "execution_count": null,
      "metadata": {
        "id": "27EDy2jD4cLX"
      },
      "outputs": [],
      "source": []
    },
    {
      "cell_type": "code",
      "source": [
        "from google.colab import drive\n",
        "drive.mount('/content/drive')"
      ],
      "metadata": {
        "colab": {
          "base_uri": "https://localhost:8080/"
        },
        "id": "UqJNX7Tg41--",
        "outputId": "ce837629-fc87-43e7-b7ce-e89f1d5c30fd"
      },
      "execution_count": 1,
      "outputs": [
        {
          "output_type": "stream",
          "name": "stdout",
          "text": [
            "Mounted at /content/drive\n"
          ]
        }
      ]
    },
    {
      "cell_type": "markdown",
      "source": [
        "/content/drive/MyDrive/Twitter sentiments presentation.pptx"
      ],
      "metadata": {
        "id": "Xmn4q0vt5QmF"
      }
    },
    {
      "cell_type": "code",
      "source": [
        "/content/drive/MyDrive/Twitter sentiments presentation.pptx"
      ],
      "metadata": {
        "id": "YbhNLT515UAb"
      },
      "execution_count": null,
      "outputs": []
    }
  ]
}